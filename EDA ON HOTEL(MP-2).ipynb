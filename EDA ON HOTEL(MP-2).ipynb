{
  "nbformat": 4,
  "nbformat_minor": 0,
  "metadata": {
    "colab": {
      "provenance": [],
      "toc_visible": true
    },
    "kernelspec": {
      "name": "python3",
      "display_name": "Python 3"
    },
    "language_info": {
      "name": "python"
    }
  },
  "cells": [
    {
      "cell_type": "code",
      "execution_count": null,
      "metadata": {
        "colab": {
          "base_uri": "https://localhost:8080/",
          "height": 487
        },
        "id": "FTZ2glhtfIqv",
        "outputId": "bc046659-eb37-4b38-decc-a18ccd3e992d"
      },
      "outputs": [
        {
          "output_type": "execute_result",
          "data": {
            "text/plain": [
              "       no_of_adults  no_of_children  no_of_weekend_nights  no_of_week_nights  \\\n",
              "0                 2               0                     1                  4   \n",
              "1                 2               1                     0                  2   \n",
              "2                 1               0                     1                  5   \n",
              "3                 1               0                     2                  4   \n",
              "4                 2               0                     0                  4   \n",
              "...             ...             ...                   ...                ...   \n",
              "18132             1               0                     0                  2   \n",
              "18133             2               0                     0                  3   \n",
              "18134             2               0                     0                  1   \n",
              "18135             2               0                     0                  3   \n",
              "18136             1               0                     1                  1   \n",
              "\n",
              "       type_of_meal_plan  required_car_parking_space  room_type_reserved  \\\n",
              "0                      0                           0                   0   \n",
              "1                      0                           0                   0   \n",
              "2                      0                           0                   0   \n",
              "3                      0                           0                   0   \n",
              "4                      1                           0                   0   \n",
              "...                  ...                         ...                 ...   \n",
              "18132                  0                           0                   0   \n",
              "18133                  0                           0                   0   \n",
              "18134                  0                           0                   0   \n",
              "18135                  0                           0                   0   \n",
              "18136                  0                           0                   0   \n",
              "\n",
              "       lead_time  arrival_year  arrival_month  arrival_date  \\\n",
              "0            118          2017             12            28   \n",
              "1             17          2018              4            14   \n",
              "2            349          2018             10             4   \n",
              "3             69          2018              6            12   \n",
              "4             11          2018              1            20   \n",
              "...          ...           ...            ...           ...   \n",
              "18132        103          2018              4            19   \n",
              "18133        129          2018              8            10   \n",
              "18134         90          2018              7            13   \n",
              "18135         18          2018             11            10   \n",
              "18136        159          2018              4             9   \n",
              "\n",
              "       market_segment_type  repeated_guest  no_of_previous_cancellations  \\\n",
              "0                        1               0                             0   \n",
              "1                        1               0                             0   \n",
              "2                        0               0                             0   \n",
              "3                        0               0                             0   \n",
              "4                        1               0                             0   \n",
              "...                    ...             ...                           ...   \n",
              "18132                    0               0                             0   \n",
              "18133                    1               0                             0   \n",
              "18134                    1               0                             0   \n",
              "18135                    1               1                             0   \n",
              "18136                    0               0                             0   \n",
              "\n",
              "       no_of_previous_bookings_not_canceled  avg_price_per_room  \\\n",
              "0                                         0              110.80   \n",
              "1                                         0              145.00   \n",
              "2                                         0               96.67   \n",
              "3                                         0              120.00   \n",
              "4                                         0               69.50   \n",
              "...                                     ...                 ...   \n",
              "18132                                     0              115.00   \n",
              "18133                                     0               88.01   \n",
              "18134                                     0              105.30   \n",
              "18135                                     1              123.33   \n",
              "18136                                     0               65.00   \n",
              "\n",
              "       no_of_special_requests  booking_status  \n",
              "0                           2               0  \n",
              "1                           0               1  \n",
              "2                           0               1  \n",
              "3                           0               1  \n",
              "4                           1               0  \n",
              "...                       ...             ...  \n",
              "18132                       0               1  \n",
              "18133                       1               0  \n",
              "18134                       0               1  \n",
              "18135                       1               0  \n",
              "18136                       0               0  \n",
              "\n",
              "[18137 rows x 18 columns]"
            ],
            "text/html": [
              "\n",
              "  <div id=\"df-4cda5f86-e41f-4935-b412-d2777212cd85\">\n",
              "    <div class=\"colab-df-container\">\n",
              "      <div>\n",
              "<style scoped>\n",
              "    .dataframe tbody tr th:only-of-type {\n",
              "        vertical-align: middle;\n",
              "    }\n",
              "\n",
              "    .dataframe tbody tr th {\n",
              "        vertical-align: top;\n",
              "    }\n",
              "\n",
              "    .dataframe thead th {\n",
              "        text-align: right;\n",
              "    }\n",
              "</style>\n",
              "<table border=\"1\" class=\"dataframe\">\n",
              "  <thead>\n",
              "    <tr style=\"text-align: right;\">\n",
              "      <th></th>\n",
              "      <th>no_of_adults</th>\n",
              "      <th>no_of_children</th>\n",
              "      <th>no_of_weekend_nights</th>\n",
              "      <th>no_of_week_nights</th>\n",
              "      <th>type_of_meal_plan</th>\n",
              "      <th>required_car_parking_space</th>\n",
              "      <th>room_type_reserved</th>\n",
              "      <th>lead_time</th>\n",
              "      <th>arrival_year</th>\n",
              "      <th>arrival_month</th>\n",
              "      <th>arrival_date</th>\n",
              "      <th>market_segment_type</th>\n",
              "      <th>repeated_guest</th>\n",
              "      <th>no_of_previous_cancellations</th>\n",
              "      <th>no_of_previous_bookings_not_canceled</th>\n",
              "      <th>avg_price_per_room</th>\n",
              "      <th>no_of_special_requests</th>\n",
              "      <th>booking_status</th>\n",
              "    </tr>\n",
              "  </thead>\n",
              "  <tbody>\n",
              "    <tr>\n",
              "      <th>0</th>\n",
              "      <td>2</td>\n",
              "      <td>0</td>\n",
              "      <td>1</td>\n",
              "      <td>4</td>\n",
              "      <td>0</td>\n",
              "      <td>0</td>\n",
              "      <td>0</td>\n",
              "      <td>118</td>\n",
              "      <td>2017</td>\n",
              "      <td>12</td>\n",
              "      <td>28</td>\n",
              "      <td>1</td>\n",
              "      <td>0</td>\n",
              "      <td>0</td>\n",
              "      <td>0</td>\n",
              "      <td>110.80</td>\n",
              "      <td>2</td>\n",
              "      <td>0</td>\n",
              "    </tr>\n",
              "    <tr>\n",
              "      <th>1</th>\n",
              "      <td>2</td>\n",
              "      <td>1</td>\n",
              "      <td>0</td>\n",
              "      <td>2</td>\n",
              "      <td>0</td>\n",
              "      <td>0</td>\n",
              "      <td>0</td>\n",
              "      <td>17</td>\n",
              "      <td>2018</td>\n",
              "      <td>4</td>\n",
              "      <td>14</td>\n",
              "      <td>1</td>\n",
              "      <td>0</td>\n",
              "      <td>0</td>\n",
              "      <td>0</td>\n",
              "      <td>145.00</td>\n",
              "      <td>0</td>\n",
              "      <td>1</td>\n",
              "    </tr>\n",
              "    <tr>\n",
              "      <th>2</th>\n",
              "      <td>1</td>\n",
              "      <td>0</td>\n",
              "      <td>1</td>\n",
              "      <td>5</td>\n",
              "      <td>0</td>\n",
              "      <td>0</td>\n",
              "      <td>0</td>\n",
              "      <td>349</td>\n",
              "      <td>2018</td>\n",
              "      <td>10</td>\n",
              "      <td>4</td>\n",
              "      <td>0</td>\n",
              "      <td>0</td>\n",
              "      <td>0</td>\n",
              "      <td>0</td>\n",
              "      <td>96.67</td>\n",
              "      <td>0</td>\n",
              "      <td>1</td>\n",
              "    </tr>\n",
              "    <tr>\n",
              "      <th>3</th>\n",
              "      <td>1</td>\n",
              "      <td>0</td>\n",
              "      <td>2</td>\n",
              "      <td>4</td>\n",
              "      <td>0</td>\n",
              "      <td>0</td>\n",
              "      <td>0</td>\n",
              "      <td>69</td>\n",
              "      <td>2018</td>\n",
              "      <td>6</td>\n",
              "      <td>12</td>\n",
              "      <td>0</td>\n",
              "      <td>0</td>\n",
              "      <td>0</td>\n",
              "      <td>0</td>\n",
              "      <td>120.00</td>\n",
              "      <td>0</td>\n",
              "      <td>1</td>\n",
              "    </tr>\n",
              "    <tr>\n",
              "      <th>4</th>\n",
              "      <td>2</td>\n",
              "      <td>0</td>\n",
              "      <td>0</td>\n",
              "      <td>4</td>\n",
              "      <td>1</td>\n",
              "      <td>0</td>\n",
              "      <td>0</td>\n",
              "      <td>11</td>\n",
              "      <td>2018</td>\n",
              "      <td>1</td>\n",
              "      <td>20</td>\n",
              "      <td>1</td>\n",
              "      <td>0</td>\n",
              "      <td>0</td>\n",
              "      <td>0</td>\n",
              "      <td>69.50</td>\n",
              "      <td>1</td>\n",
              "      <td>0</td>\n",
              "    </tr>\n",
              "    <tr>\n",
              "      <th>...</th>\n",
              "      <td>...</td>\n",
              "      <td>...</td>\n",
              "      <td>...</td>\n",
              "      <td>...</td>\n",
              "      <td>...</td>\n",
              "      <td>...</td>\n",
              "      <td>...</td>\n",
              "      <td>...</td>\n",
              "      <td>...</td>\n",
              "      <td>...</td>\n",
              "      <td>...</td>\n",
              "      <td>...</td>\n",
              "      <td>...</td>\n",
              "      <td>...</td>\n",
              "      <td>...</td>\n",
              "      <td>...</td>\n",
              "      <td>...</td>\n",
              "      <td>...</td>\n",
              "    </tr>\n",
              "    <tr>\n",
              "      <th>18132</th>\n",
              "      <td>1</td>\n",
              "      <td>0</td>\n",
              "      <td>0</td>\n",
              "      <td>2</td>\n",
              "      <td>0</td>\n",
              "      <td>0</td>\n",
              "      <td>0</td>\n",
              "      <td>103</td>\n",
              "      <td>2018</td>\n",
              "      <td>4</td>\n",
              "      <td>19</td>\n",
              "      <td>0</td>\n",
              "      <td>0</td>\n",
              "      <td>0</td>\n",
              "      <td>0</td>\n",
              "      <td>115.00</td>\n",
              "      <td>0</td>\n",
              "      <td>1</td>\n",
              "    </tr>\n",
              "    <tr>\n",
              "      <th>18133</th>\n",
              "      <td>2</td>\n",
              "      <td>0</td>\n",
              "      <td>0</td>\n",
              "      <td>3</td>\n",
              "      <td>0</td>\n",
              "      <td>0</td>\n",
              "      <td>0</td>\n",
              "      <td>129</td>\n",
              "      <td>2018</td>\n",
              "      <td>8</td>\n",
              "      <td>10</td>\n",
              "      <td>1</td>\n",
              "      <td>0</td>\n",
              "      <td>0</td>\n",
              "      <td>0</td>\n",
              "      <td>88.01</td>\n",
              "      <td>1</td>\n",
              "      <td>0</td>\n",
              "    </tr>\n",
              "    <tr>\n",
              "      <th>18134</th>\n",
              "      <td>2</td>\n",
              "      <td>0</td>\n",
              "      <td>0</td>\n",
              "      <td>1</td>\n",
              "      <td>0</td>\n",
              "      <td>0</td>\n",
              "      <td>0</td>\n",
              "      <td>90</td>\n",
              "      <td>2018</td>\n",
              "      <td>7</td>\n",
              "      <td>13</td>\n",
              "      <td>1</td>\n",
              "      <td>0</td>\n",
              "      <td>0</td>\n",
              "      <td>0</td>\n",
              "      <td>105.30</td>\n",
              "      <td>0</td>\n",
              "      <td>1</td>\n",
              "    </tr>\n",
              "    <tr>\n",
              "      <th>18135</th>\n",
              "      <td>2</td>\n",
              "      <td>0</td>\n",
              "      <td>0</td>\n",
              "      <td>3</td>\n",
              "      <td>0</td>\n",
              "      <td>0</td>\n",
              "      <td>0</td>\n",
              "      <td>18</td>\n",
              "      <td>2018</td>\n",
              "      <td>11</td>\n",
              "      <td>10</td>\n",
              "      <td>1</td>\n",
              "      <td>1</td>\n",
              "      <td>0</td>\n",
              "      <td>1</td>\n",
              "      <td>123.33</td>\n",
              "      <td>1</td>\n",
              "      <td>0</td>\n",
              "    </tr>\n",
              "    <tr>\n",
              "      <th>18136</th>\n",
              "      <td>1</td>\n",
              "      <td>0</td>\n",
              "      <td>1</td>\n",
              "      <td>1</td>\n",
              "      <td>0</td>\n",
              "      <td>0</td>\n",
              "      <td>0</td>\n",
              "      <td>159</td>\n",
              "      <td>2018</td>\n",
              "      <td>4</td>\n",
              "      <td>9</td>\n",
              "      <td>0</td>\n",
              "      <td>0</td>\n",
              "      <td>0</td>\n",
              "      <td>0</td>\n",
              "      <td>65.00</td>\n",
              "      <td>0</td>\n",
              "      <td>0</td>\n",
              "    </tr>\n",
              "  </tbody>\n",
              "</table>\n",
              "<p>18137 rows × 18 columns</p>\n",
              "</div>\n",
              "      <button class=\"colab-df-convert\" onclick=\"convertToInteractive('df-4cda5f86-e41f-4935-b412-d2777212cd85')\"\n",
              "              title=\"Convert this dataframe to an interactive table.\"\n",
              "              style=\"display:none;\">\n",
              "        \n",
              "  <svg xmlns=\"http://www.w3.org/2000/svg\" height=\"24px\"viewBox=\"0 0 24 24\"\n",
              "       width=\"24px\">\n",
              "    <path d=\"M0 0h24v24H0V0z\" fill=\"none\"/>\n",
              "    <path d=\"M18.56 5.44l.94 2.06.94-2.06 2.06-.94-2.06-.94-.94-2.06-.94 2.06-2.06.94zm-11 1L8.5 8.5l.94-2.06 2.06-.94-2.06-.94L8.5 2.5l-.94 2.06-2.06.94zm10 10l.94 2.06.94-2.06 2.06-.94-2.06-.94-.94-2.06-.94 2.06-2.06.94z\"/><path d=\"M17.41 7.96l-1.37-1.37c-.4-.4-.92-.59-1.43-.59-.52 0-1.04.2-1.43.59L10.3 9.45l-7.72 7.72c-.78.78-.78 2.05 0 2.83L4 21.41c.39.39.9.59 1.41.59.51 0 1.02-.2 1.41-.59l7.78-7.78 2.81-2.81c.8-.78.8-2.07 0-2.86zM5.41 20L4 18.59l7.72-7.72 1.47 1.35L5.41 20z\"/>\n",
              "  </svg>\n",
              "      </button>\n",
              "      \n",
              "  <style>\n",
              "    .colab-df-container {\n",
              "      display:flex;\n",
              "      flex-wrap:wrap;\n",
              "      gap: 12px;\n",
              "    }\n",
              "\n",
              "    .colab-df-convert {\n",
              "      background-color: #E8F0FE;\n",
              "      border: none;\n",
              "      border-radius: 50%;\n",
              "      cursor: pointer;\n",
              "      display: none;\n",
              "      fill: #1967D2;\n",
              "      height: 32px;\n",
              "      padding: 0 0 0 0;\n",
              "      width: 32px;\n",
              "    }\n",
              "\n",
              "    .colab-df-convert:hover {\n",
              "      background-color: #E2EBFA;\n",
              "      box-shadow: 0px 1px 2px rgba(60, 64, 67, 0.3), 0px 1px 3px 1px rgba(60, 64, 67, 0.15);\n",
              "      fill: #174EA6;\n",
              "    }\n",
              "\n",
              "    [theme=dark] .colab-df-convert {\n",
              "      background-color: #3B4455;\n",
              "      fill: #D2E3FC;\n",
              "    }\n",
              "\n",
              "    [theme=dark] .colab-df-convert:hover {\n",
              "      background-color: #434B5C;\n",
              "      box-shadow: 0px 1px 3px 1px rgba(0, 0, 0, 0.15);\n",
              "      filter: drop-shadow(0px 1px 2px rgba(0, 0, 0, 0.3));\n",
              "      fill: #FFFFFF;\n",
              "    }\n",
              "  </style>\n",
              "\n",
              "      <script>\n",
              "        const buttonEl =\n",
              "          document.querySelector('#df-4cda5f86-e41f-4935-b412-d2777212cd85 button.colab-df-convert');\n",
              "        buttonEl.style.display =\n",
              "          google.colab.kernel.accessAllowed ? 'block' : 'none';\n",
              "\n",
              "        async function convertToInteractive(key) {\n",
              "          const element = document.querySelector('#df-4cda5f86-e41f-4935-b412-d2777212cd85');\n",
              "          const dataTable =\n",
              "            await google.colab.kernel.invokeFunction('convertToInteractive',\n",
              "                                                     [key], {});\n",
              "          if (!dataTable) return;\n",
              "\n",
              "          const docLinkHtml = 'Like what you see? Visit the ' +\n",
              "            '<a target=\"_blank\" href=https://colab.research.google.com/notebooks/data_table.ipynb>data table notebook</a>'\n",
              "            + ' to learn more about interactive tables.';\n",
              "          element.innerHTML = '';\n",
              "          dataTable['output_type'] = 'display_data';\n",
              "          await google.colab.output.renderOutput(dataTable, element);\n",
              "          const docLink = document.createElement('div');\n",
              "          docLink.innerHTML = docLinkHtml;\n",
              "          element.appendChild(docLink);\n",
              "        }\n",
              "      </script>\n",
              "    </div>\n",
              "  </div>\n",
              "  "
            ]
          },
          "metadata": {},
          "execution_count": 40
        }
      ],
      "source": [
        "import pandas as pd\n",
        "import numpy as np\n",
        "#dataframe\n",
        "df = pd.read_csv('hotel_cancellation.csv')\n",
        "df\n",
        "#data for all hotel cancellations and factors involved\n",
        "#0-no , 1-yes , booking status = 1- cancel , 0 - not cancel "
      ]
    },
    {
      "cell_type": "code",
      "source": [
        "df.info()"
      ],
      "metadata": {
        "colab": {
          "base_uri": "https://localhost:8080/"
        },
        "id": "dBoUoNlHwVFi",
        "outputId": "bdac1d22-bd3a-40a3-c927-ee960b3ad42f"
      },
      "execution_count": null,
      "outputs": [
        {
          "output_type": "stream",
          "name": "stdout",
          "text": [
            "<class 'pandas.core.frame.DataFrame'>\n",
            "RangeIndex: 18137 entries, 0 to 18136\n",
            "Data columns (total 18 columns):\n",
            " #   Column                                Non-Null Count  Dtype  \n",
            "---  ------                                --------------  -----  \n",
            " 0   no_of_adults                          18137 non-null  int64  \n",
            " 1   no_of_children                        18137 non-null  int64  \n",
            " 2   no_of_weekend_nights                  18137 non-null  int64  \n",
            " 3   no_of_week_nights                     18137 non-null  int64  \n",
            " 4   type_of_meal_plan                     18137 non-null  int64  \n",
            " 5   required_car_parking_space            18137 non-null  int64  \n",
            " 6   room_type_reserved                    18137 non-null  int64  \n",
            " 7   lead_time                             18137 non-null  int64  \n",
            " 8   arrival_year                          18137 non-null  int64  \n",
            " 9   arrival_month                         18137 non-null  int64  \n",
            " 10  arrival_date                          18137 non-null  int64  \n",
            " 11  market_segment_type                   18137 non-null  int64  \n",
            " 12  repeated_guest                        18137 non-null  int64  \n",
            " 13  no_of_previous_cancellations          18137 non-null  int64  \n",
            " 14  no_of_previous_bookings_not_canceled  18137 non-null  int64  \n",
            " 15  avg_price_per_room                    18137 non-null  float64\n",
            " 16  no_of_special_requests                18137 non-null  int64  \n",
            " 17  booking_status                        18137 non-null  int64  \n",
            "dtypes: float64(1), int64(17)\n",
            "memory usage: 2.5 MB\n"
          ]
        }
      ]
    },
    {
      "cell_type": "code",
      "source": [
        "#EDA 1\n",
        "# FIND % OF ROOMS CANCELLED AND BOOKED ON SAME DAY \n",
        "# We will use Lead time column which is Number of days between the date of booking and the arrival date\n",
        "a = np.sum(df['lead_time']==0)\n",
        "print(\"no. of bookings on same day as arrival :\",a)\n",
        "b = np.sum((df['lead_time']==0)&(df['booking_status']==1))/643 * 100\n",
        "print(\"% of booking cancelled on same day as arival :\",b)"
      ],
      "metadata": {
        "colab": {
          "base_uri": "https://localhost:8080/"
        },
        "id": "VTl7iIUsfpPr",
        "outputId": "aced9bb3-e5af-49e5-e428-57495900b3bb"
      },
      "execution_count": null,
      "outputs": [
        {
          "output_type": "stream",
          "name": "stdout",
          "text": [
            "no. of bookings on same day as arrival : 643\n",
            "% of booking cancelled on same day as arival : 5.132192846034215\n"
          ]
        }
      ]
    },
    {
      "cell_type": "code",
      "source": [
        "#EDA 2\n",
        "#FIND % OF CANCELLED HOTELS BOOKED BY SINGLE PERSON and COUPLES\n",
        "#WE WILL USE no_of_adults column\n",
        "print(np.sum(df['no_of_adults']==1))\n",
        "print(np.sum(df['no_of_adults']==2))"
      ],
      "metadata": {
        "colab": {
          "base_uri": "https://localhost:8080/"
        },
        "id": "TChq1hDJ8dgI",
        "outputId": "d5c6082b-00a5-41d2-c71c-f396e823f27c"
      },
      "execution_count": null,
      "outputs": [
        {
          "output_type": "stream",
          "name": "stdout",
          "text": [
            "3809\n",
            "13104\n"
          ]
        }
      ]
    },
    {
      "cell_type": "code",
      "source": [
        "b = np.sum((df['no_of_adults']==1)&(df['booking_status']==1))\n",
        "print(\"% of one adult room cancelled :\", b/3809 * 100)\n",
        "c = np.sum((df['no_of_adults']==2)&(df['booking_status']==1))\n",
        "print(\"% of two adult room cancelled :\", c/13104 * 100)"
      ],
      "metadata": {
        "colab": {
          "base_uri": "https://localhost:8080/"
        },
        "id": "aZvK0CeQvrAO",
        "outputId": "2ece7dd3-d935-4ae6-e46f-5343b336f3d4"
      },
      "execution_count": null,
      "outputs": [
        {
          "output_type": "stream",
          "name": "stdout",
          "text": [
            "% of one adult room cancelled : 23.418220005250724\n",
            "% of two adult room cancelled : 34.99694749694749\n"
          ]
        }
      ]
    },
    {
      "cell_type": "code",
      "source": [
        "#EDA 3\n",
        "# FIND number OF CANCELLED ROOMS BY room PRICE\n",
        "very_cheap = np.sum((df['avg_price_per_room']<=50)&(df['booking_status']==1)) \n",
        "moderate = np.sum((df['avg_price_per_room']>50)&(df['avg_price_per_room']<=125)&(df['booking_status']==1)) \n",
        "expensive = np.sum((df['avg_price_per_room']>125)&(df['avg_price_per_room']<=175)&(df['booking_status']==1)) \n",
        "very_expensive = np.sum((df['avg_price_per_room']>175)&(df['booking_status']==1))\n",
        "print(\"very cheap rooms cancelled :\" , very_cheap)\n",
        "print(\"moderate rooms cancelled :\" , moderate)\n",
        "print(\"expensive rooms cancelled :\" , expensive)\n",
        "print(\"very expensive rooms cancelled :\",  very_expensive)"
      ],
      "metadata": {
        "colab": {
          "base_uri": "https://localhost:8080/"
        },
        "id": "Ej1MuMp0wk5-",
        "outputId": "caa28014-3dd0-4fa1-98d0-28e98365fb48"
      },
      "execution_count": null,
      "outputs": [
        {
          "output_type": "stream",
          "name": "stdout",
          "text": [
            "very cheap rooms cancelled : 27\n",
            "moderate rooms cancelled : 4359\n",
            "expensive rooms cancelled : 1308\n",
            "very expensive rooms cancelled : 248\n"
          ]
        }
      ]
    },
    {
      "cell_type": "code",
      "source": [
        "#EDA 4\n",
        "#FIND NUMBER OF ROOMS BOOKED FOR EACH MONTH \n",
        "df.groupby('arrival_month').size()"
      ],
      "metadata": {
        "colab": {
          "base_uri": "https://localhost:8080/"
        },
        "id": "Aku2OboKyuTz",
        "outputId": "dc9b84a4-5923-4318-f9b2-9a9539130bdc"
      },
      "execution_count": null,
      "outputs": [
        {
          "output_type": "execute_result",
          "data": {
            "text/plain": [
              "arrival_month\n",
              "1      501\n",
              "2      853\n",
              "3     1176\n",
              "4     1386\n",
              "5     1305\n",
              "6     1607\n",
              "7     1422\n",
              "8     1868\n",
              "9     2301\n",
              "10    2678\n",
              "11    1505\n",
              "12    1535\n",
              "dtype: int64"
            ]
          },
          "metadata": {},
          "execution_count": 60
        }
      ]
    },
    {
      "cell_type": "code",
      "source": [
        "#EDA 5\n",
        "#FIND NUMBER % OF ROOMS CANCELLED BY REPEATING AND NON REPEATING GUEST WHO HAD MADE SPECIAL REQUESTS\n",
        "df.groupby('repeated_guest').size()"
      ],
      "metadata": {
        "colab": {
          "base_uri": "https://localhost:8080/"
        },
        "id": "ZkZO6icQ0ZIS",
        "outputId": "69c112ca-17e6-4158-fc77-bcf9807e5915"
      },
      "execution_count": null,
      "outputs": [
        {
          "output_type": "execute_result",
          "data": {
            "text/plain": [
              "repeated_guest\n",
              "0    17663\n",
              "1      475\n",
              "dtype: int64"
            ]
          },
          "metadata": {},
          "execution_count": 25
        }
      ]
    },
    {
      "cell_type": "code",
      "source": [
        "var1 = np.sum((df['repeated_guest'] == 1) &(df['no_of_special_requests']>1)&(df['booking_status']==1))\n",
        "print(\"% of repeating guest who cancelled and requested special service:\",var1/475 * 100)\n",
        "var2 = np.sum((df['repeated_guest'] == 0) &(df['no_of_special_requests']==0)&(df['booking_status']==1))\n",
        "print(\"% of non repeating guest who cancelled and requested special service:\",var2/17663 * 100)"
      ],
      "metadata": {
        "colab": {
          "base_uri": "https://localhost:8080/"
        },
        "id": "VjMYulFK1ChP",
        "outputId": "4f7e7ccb-7034-41c7-bda3-c8ee4b216a82"
      },
      "execution_count": null,
      "outputs": [
        {
          "output_type": "stream",
          "name": "stdout",
          "text": [
            "% of repeating guest who cancelled and requested special service: 0.0\n",
            "% of non repeating guest who cancelled and requested special service: 24.07292079488196\n"
          ]
        }
      ]
    },
    {
      "cell_type": "code",
      "source": [
        "#EDA 6\n",
        "# CAR PARKING REQUIRED BY GUESTS \n",
        "df.groupby('required_car_parking_space').size()"
      ],
      "metadata": {
        "colab": {
          "base_uri": "https://localhost:8080/"
        },
        "id": "j2LWClWW1vBl",
        "outputId": "1a5663f3-fd74-4976-9a86-9e3134054a57"
      },
      "execution_count": null,
      "outputs": [
        {
          "output_type": "execute_result",
          "data": {
            "text/plain": [
              "required_car_parking_space\n",
              "0    17563\n",
              "1      574\n",
              "dtype: int64"
            ]
          },
          "metadata": {},
          "execution_count": 75
        }
      ]
    },
    {
      "cell_type": "code",
      "source": [
        "#EDA 7 \n",
        "# MEAL PLANS BOOKED IN COMBINATION OF BREAKFAST , LUNCH , DINNER\n",
        "df.groupby('type_of_meal_plan').size()"
      ],
      "metadata": {
        "colab": {
          "base_uri": "https://localhost:8080/"
        },
        "id": "x71YAi8W2nYX",
        "outputId": "6278ae2d-311a-419c-cef4-3292bc170fe4"
      },
      "execution_count": null,
      "outputs": [
        {
          "output_type": "execute_result",
          "data": {
            "text/plain": [
              "type_of_meal_plan\n",
              "0    13979\n",
              "1     2543\n",
              "2     1612\n",
              "3        3\n",
              "dtype: int64"
            ]
          },
          "metadata": {},
          "execution_count": 69
        }
      ]
    },
    {
      "cell_type": "code",
      "source": [
        "#EDA 8\n",
        "# FIND % OF ROOMS BOOKED FOR CHILDREN CANCELLED\n",
        "e = np.sum(df['no_of_children']>0)\n",
        "print(\"no. of families with children :\",e)\n",
        "d = np.sum((df['no_of_children']>0)&(df['booking_status']==1))/1370 * 100\n",
        "print(\"% of cancelled rooms for children :\",d)"
      ],
      "metadata": {
        "colab": {
          "base_uri": "https://localhost:8080/"
        },
        "id": "l17kcS5T_8U_",
        "outputId": "d92e06a0-ba7f-40e2-e8b7-a05cc0c57bd7"
      },
      "execution_count": null,
      "outputs": [
        {
          "output_type": "stream",
          "name": "stdout",
          "text": [
            "no. of families with children : 1370\n",
            "% of cancelled rooms for children : 37.81021897810219\n"
          ]
        }
      ]
    },
    {
      "cell_type": "code",
      "source": [
        "#EDA 9\n",
        "# FAMILIES WITH KIDS WHO PRE BOOKED MEALS \n",
        "d = np.sum((df['no_of_children']>0)&(df['type_of_meal_plan']>0))\n",
        "print(\"% of families with kids which pre ordered meals\",c/1370 * 100)"
      ],
      "metadata": {
        "colab": {
          "base_uri": "https://localhost:8080/"
        },
        "id": "4Ceeq6mKAVbq",
        "outputId": "ee40bc85-cf3e-43cb-88d8-1ffb3559aef6"
      },
      "execution_count": null,
      "outputs": [
        {
          "output_type": "stream",
          "name": "stdout",
          "text": [
            "% of families with kids which pre ordered meals 0.20845858958045094\n"
          ]
        }
      ]
    },
    {
      "cell_type": "code",
      "source": [
        "#EDA 10\n",
        "# CANCELLATION STATUS FOR HOTELS BOOKED FOR WEEKEND NIGHTS\n",
        "# 0 - NOT CANCELLED , 1 - CANCELLED \n",
        "df.groupby(['no_of_weekend_nights','booking_status']).size()"
      ],
      "metadata": {
        "colab": {
          "base_uri": "https://localhost:8080/"
        },
        "id": "EI6BrTDOCjQQ",
        "outputId": "f69d24a6-11b0-4f5e-b659-13e715de8eb3"
      },
      "execution_count": null,
      "outputs": [
        {
          "output_type": "execute_result",
          "data": {
            "text/plain": [
              "no_of_weekend_nights  booking_status\n",
              "0                     0                 5896\n",
              "                      1                 2548\n",
              "1                     0                 3256\n",
              "                      1                 1729\n",
              "2                     0                 2977\n",
              "                      1                 1558\n",
              "3                     0                   44\n",
              "                      1                   40\n",
              "4                     0                   17\n",
              "                      1                   39\n",
              "5                     0                    3\n",
              "                      1                   16\n",
              "6                     0                    2\n",
              "                      1                   11\n",
              "7                     1                    1\n",
              "dtype: int64"
            ]
          },
          "metadata": {},
          "execution_count": 84
        }
      ]
    },
    {
      "cell_type": "code",
      "source": [
        "#EDA 11\n",
        "# % OF SPECIAL REQUESTS FOR WEEKEND NIGHTS\n",
        "f = np.sum(df['no_of_weekend_nights']>0)\n",
        "print('bookings on weekend nights : ',f) \n",
        "g = np.sum((df['no_of_weekend_nights']>0) & (df['no_of_special_requests']>0))\n",
        "print('% of bookings for weekend nights with special requests:',g/9693 * 100)"
      ],
      "metadata": {
        "colab": {
          "base_uri": "https://localhost:8080/"
        },
        "id": "qt_ECHHvFuyc",
        "outputId": "b5628fd6-f666-4a49-d390-52cb8f7429ce"
      },
      "execution_count": null,
      "outputs": [
        {
          "output_type": "stream",
          "name": "stdout",
          "text": [
            "bookings on weekend nights :  9693\n",
            "% of bookings for weekend nights with special requests: 47.87991333952337\n"
          ]
        }
      ]
    },
    {
      "cell_type": "code",
      "source": [
        "#EDA 12\n",
        "#CHEAPEST ROOM PURCHASED AT\n",
        "h = np.min(df['avg_price_per_room'])\n",
        "print(\"cheapest room price : \",h)"
      ],
      "metadata": {
        "colab": {
          "base_uri": "https://localhost:8080/"
        },
        "id": "PYpAnSndHqSW",
        "outputId": "87d9638f-9b91-4076-ece0-142a661ea573"
      },
      "execution_count": null,
      "outputs": [
        {
          "output_type": "stream",
          "name": "stdout",
          "text": [
            "cheapest room price :  0.0\n"
          ]
        }
      ]
    },
    {
      "cell_type": "code",
      "source": [
        "#EDA 13 \n",
        "# MOST EXPENSIVE ROOM PURCHASED AT \n",
        "h = np.max(df['avg_price_per_room'])\n",
        "print(\"most expensive room price : \",h)"
      ],
      "metadata": {
        "colab": {
          "base_uri": "https://localhost:8080/"
        },
        "id": "VqrpLq9HIKsI",
        "outputId": "62afec20-1f05-41fb-8805-a0007d23d95e"
      },
      "execution_count": null,
      "outputs": [
        {
          "output_type": "stream",
          "name": "stdout",
          "text": [
            "most expensive room price :  540.0\n"
          ]
        }
      ]
    },
    {
      "cell_type": "code",
      "source": [
        "#EDA 14 \n",
        "# NO. OF GUEST WHO CANCELLED MORE THAN ONCE \n",
        "i = np.sum((df['booking_status']==1)&(df['no_of_previous_cancellations']>1))\n",
        "print(\"number of guests who cancelled more than once : \" , i)"
      ],
      "metadata": {
        "colab": {
          "base_uri": "https://localhost:8080/"
        },
        "id": "62k7nTZxIYv4",
        "outputId": "c2a9de0b-9212-4a58-d3e0-c9ddfc069306"
      },
      "execution_count": null,
      "outputs": [
        {
          "output_type": "stream",
          "name": "stdout",
          "text": [
            "number of guests who cancelled more than once :  3\n"
          ]
        }
      ]
    },
    {
      "cell_type": "code",
      "source": [
        "#EDA 15 \n",
        "# NO. OF GUESTS WHO BOOKED AFTER CANCELLING BEFORE \n",
        "j = np.sum((df['booking_status']==0)&(df['no_of_previous_cancellations']>1))\n",
        "print(\"number of guests who booked after cancelling before : \" , j)"
      ],
      "metadata": {
        "colab": {
          "base_uri": "https://localhost:8080/"
        },
        "id": "JhxqTiCIJHU4",
        "outputId": "b17047cf-68d0-4272-f203-7ae9bf8cf945"
      },
      "execution_count": null,
      "outputs": [
        {
          "output_type": "stream",
          "name": "stdout",
          "text": [
            "number of guests who booked after cancelling before :  67\n"
          ]
        }
      ]
    }
  ]
}